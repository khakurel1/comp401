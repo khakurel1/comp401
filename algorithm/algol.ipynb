{
 "cells": [
  {
   "cell_type": "code",
   "execution_count": 64,
   "metadata": {},
   "outputs": [],
   "source": [
    "import pandas as pd\n",
    "import numpy as np\n",
    "import requests\n",
    "import io\n",
    "import datetime"
   ]
  },
  {
   "cell_type": "code",
   "execution_count": 65,
   "metadata": {},
   "outputs": [],
   "source": [
    "tickers = [\"AEP\", \"DFSVX\", \"DFLVX\", \"FSAGX\"]\n",
    "GS1_URL = \"https://fred.stlouisfed.org/graph/fredgraph.csv?bgcolor=%23e1e9f0&chart_type=line&drp=0&fo=open%20sans&graph_bgcolor=%23ffffff&height=450&mode=fred&recession_bars=on&txtcolor=%23444444&ts=12&tts=12&width=1318&nt=0&thu=0&trc=0&show_legend=yes&show_axis_titles=yes&show_tooltip=yes&id=GS1&scale=left&cosd=1953-04-01&coed=2024-02-01&line_color=%234572a7&link_values=false&line_style=solid&mark_type=none&mw=3&lw=2&ost=-99999&oet=99999&mma=0&fml=a&fq=Monthly&fam=avg&fgst=lin&fgsnd=2020-02-01&line_index=1&transformation=lin&vintage_date=2024-03-11&revision_date=2024-03-11&nd=1953-04-01\"\n",
    "\n",
    "START_DATE = \"01/01/1995\"\n",
    "END_DATE = \"09/01/2023\""
   ]
  },
  {
   "cell_type": "code",
   "execution_count": 66,
   "metadata": {},
   "outputs": [],
   "source": [
    "from yahoo_fin.stock_info import get_data\n",
    "\n",
    "tickers_data = {}\n",
    "for t in tickers:\n",
    "    tickers_data[t] = get_data(t, start_date=START_DATE, end_date=END_DATE, index_as_date=False, interval=\"1mo\")"
   ]
  },
  {
   "cell_type": "code",
   "execution_count": 67,
   "metadata": {},
   "outputs": [
    {
     "name": "stdout",
     "output_type": "stream",
     "text": [
      "          date   GS1\n",
      "501 1995-01-01  7.05\n",
      "502 1995-02-01  6.70\n",
      "503 1995-03-01  6.43\n",
      "504 1995-04-01  6.27\n",
      "505 1995-05-01  6.00\n"
     ]
    }
   ],
   "source": [
    "\n",
    "gs1_data = requests.get(GS1_URL)\n",
    "fred = pd.read_csv(io.StringIO(gs1_data.text), parse_dates=[\"DATE\"])\n",
    "fred = fred.rename(columns={\"DATE\":\"date\"})\n",
    "fred = fred.loc[(fred['date'] >= START_DATE) & (fred['date'] < END_DATE)]\n",
    "\n",
    "'''\n",
    "for t in tickers:\n",
    "    df = pd.read_json(f\"./data/{t}.json\", convert_dates=[\"Date\"])\n",
    "    merged = pd.merge(merged, df[[\"date\", \"Adj Close\"]], on=\"Date\", how=\"inner\")\n",
    "    merged = merged.rename(columns={\"Adj Close\":f\"{t}_Adjusted\"})\n",
    "'''\n",
    "\n",
    "print(fred.head())"
   ]
  },
  {
   "cell_type": "code",
   "execution_count": 68,
   "metadata": {},
   "outputs": [],
   "source": [
    "merged = fred\n",
    "for t in tickers_data:\n",
    "    df = tickers_data[t]\n",
    "    merged = pd.merge(merged, df[[\"date\", \"adjclose\"]], on=\"date\", how=\"inner\")\n",
    "    merged = merged.rename(columns={\"adjclose\":f\"{t}_Adjusted\"})"
   ]
  },
  {
   "cell_type": "code",
   "execution_count": 69,
   "metadata": {},
   "outputs": [
    {
     "name": "stdout",
     "output_type": "stream",
     "text": [
      "        date   GS1  AEP_Adjusted  DFSVX_Adjusted  DFLVX_Adjusted  \\\n",
      "0 1996-01-01  5.09     12.219301        2.448707        3.688002   \n",
      "1 1996-02-01  4.94     11.839608        2.502315        3.741763   \n",
      "2 1996-03-01  5.34     11.688332        2.571487        3.857351   \n",
      "3 1996-04-01  5.54     11.373378        2.704645        3.935062   \n",
      "4 1996-05-01  5.64     11.233397        2.810134        3.999795   \n",
      "\n",
      "   FSAGX_Adjusted  AEP_annual  AEP_excess  DFSVX_annual  DFSVX_excess  \\\n",
      "0       11.230024    0.354032    0.283532      0.275800      0.205300   \n",
      "1       11.678019    0.355528    0.288528      0.259310      0.192310   \n",
      "2       11.958012    0.403812    0.339512      0.278871      0.214571   \n",
      "3       12.242316    0.324274    0.261574      0.299164      0.236464   \n",
      "4       13.577686    0.250692    0.190692      0.313527      0.253527   \n",
      "\n",
      "   DFLVX_annual  DFLVX_excess  FSAGX_annual  FSAGX_excess  \n",
      "0      0.391165      0.320665      0.462143      0.391643  \n",
      "1      0.335715      0.268715      0.470173      0.403173  \n",
      "2      0.361860      0.297560      0.305124      0.240824  \n",
      "3      0.335317      0.272617      0.341198      0.278498  \n",
      "4      0.290046      0.230046      0.457235      0.397235  \n"
     ]
    }
   ],
   "source": [
    "shifted = merged.shift(12)\n",
    "for t in tickers:\n",
    "    col_to_substract = f\"{t}_Adjusted\"\n",
    "    merged[f\"{t}_annual\"] = (merged[col_to_substract]- shifted[col_to_substract]) / shifted[col_to_substract]\n",
    "    merged[f\"{t}_excess\"] = merged[f\"{t}_annual\"] - merged.shift(12)[\"GS1\"]/100\n",
    "\n",
    "print(merged.shift(-12).head())"
   ]
  },
  {
   "cell_type": "code",
   "execution_count": 70,
   "metadata": {},
   "outputs": [
    {
     "name": "stdout",
     "output_type": "stream",
     "text": [
      "{'AEP': (0.07754664812650876, 0.19979382774849208), 'DFSVX': (0.1094686494540554, 0.24398203147580538), 'DFLVX': (0.08998956240686244, 0.19464668440220523), 'FSAGX': (0.052988783083607105, 0.3088840978004022)}\n"
     ]
    }
   ],
   "source": [
    "return_dist = {}\n",
    "for t in tickers:\n",
    "    cleaned = merged[merged[f\"{t}_excess\"].notna()]\n",
    "    return_dist[t] = (cleaned[f\"{t}_excess\"].mean(), cleaned[f\"{t}_excess\"].std())\n",
    "\n",
    "print(return_dist)"
   ]
  },
  {
   "cell_type": "code",
   "execution_count": 71,
   "metadata": {},
   "outputs": [
    {
     "name": "stdout",
     "output_type": "stream",
     "text": [
      "            AEP     DFSVX     DFLVX     FSAGX\n",
      "AEP    1.000000  0.393708  0.561141 -0.035950\n",
      "DFSVX  0.393708  1.000000  0.902942  0.091180\n",
      "DFLVX  0.561141  0.902942  1.000000  0.026616\n",
      "FSAGX -0.035950  0.091180  0.026616  1.000000\n"
     ]
    }
   ],
   "source": [
    "## Calulating correlation matrix\n",
    "cols = [f\"{col}_excess\" for col in tickers]\n",
    "rename_dict = {}\n",
    "\n",
    "for col in cols:\n",
    "    rename_dict[col] = col.replace(\"_excess\",\"\")\n",
    "    \n",
    "corr = merged[cols].corr()\n",
    "corr = corr.rename(index=rename_dict, columns=rename_dict)\n",
    "print(corr)"
   ]
  },
  {
   "cell_type": "code",
   "execution_count": 72,
   "metadata": {},
   "outputs": [
    {
     "name": "stdout",
     "output_type": "stream",
     "text": [
      "            AEP     DFSVX     DFLVX     FSAGX\n",
      "AEP    0.039918  0.019192  0.021822 -0.002219\n",
      "DFSVX  0.019192  0.059527  0.042881  0.006872\n",
      "DFLVX  0.021822  0.042881  0.037887  0.001600\n",
      "FSAGX -0.002219  0.006872  0.001600  0.095409\n"
     ]
    }
   ],
   "source": [
    "## Calulating variance-covariance\n",
    "var_covar = corr.copy()\n",
    "for row_label, row_data in var_covar.iterrows():\n",
    "    row_std = return_dist[row_label][1]\n",
    "    for col_label in var_covar.columns:\n",
    "        col_std = return_dist[col_label][1]\n",
    "        row_data[col_label] = row_data[col_label]*row_std*col_std\n",
    "\n",
    "print(var_covar)"
   ]
  },
  {
   "cell_type": "code",
   "execution_count": 73,
   "metadata": {},
   "outputs": [],
   "source": [
    "weights = np.array(\n",
    "    [[0.36656],\n",
    "    [0.32678],\n",
    "    [0.15174],\n",
    "    [0.15492]]\n",
    "    )\n",
    "\n",
    "\n",
    "res = weights.T @ np.power(var_covar.to_numpy() @ weights,0.5)\n",
    "sd = res[0,0]\n",
    "\n",
    "risk_prem = np.dot(weights.T, np.array([[return_dist[r][0]] for r in return_dist.keys()]))[0,0]\n",
    "sharpie_ratio  = risk_prem/sd\n"
   ]
  },
  {
   "cell_type": "code",
   "execution_count": 74,
   "metadata": {},
   "outputs": [],
   "source": [
    "# TODO: need to figure out the arbitrary values\n",
    "\n",
    "price_of_risk = risk_prem/sd**2\n",
    "risk_aver = 4\n",
    "y = price_of_risk/risk_aver\n",
    "\n",
    "DGS1 = 5.37/100\n",
    "E_rf = (1-y)*DGS1\n",
    "E_rP = y * (DGS1+risk_prem)\n",
    "\n",
    "expected_return =  E_rf+E_rP\n",
    "riskiness = y * sd"
   ]
  }
 ],
 "metadata": {
  "kernelspec": {
   "display_name": "Python 3",
   "language": "python",
   "name": "python3"
  },
  "language_info": {
   "codemirror_mode": {
    "name": "ipython",
    "version": 3
   },
   "file_extension": ".py",
   "mimetype": "text/x-python",
   "name": "python",
   "nbconvert_exporter": "python",
   "pygments_lexer": "ipython3",
   "version": "3.10.5"
  }
 },
 "nbformat": 4,
 "nbformat_minor": 2
}
